{
 "cells": [
  {
   "cell_type": "code",
   "execution_count": 1,
   "metadata": {},
   "outputs": [],
   "source": [
    "import numpy as np\n",
    "import torch\n",
    "import torchvision\n",
    "from torch.utils.data import Dataset, TensorDataset\n",
    "import torchvision.datasets as datasets\n",
    "from torchvision import transforms\n",
    "import PIL\n",
    "import ConvexHullDataset as mixup\n",
    "from importlib import reload\n",
    "import matplotlib.pyplot as plt\n",
    "\n",
    "mixup = reload(mixup)"
   ]
  },
  {
   "cell_type": "code",
   "execution_count": 140,
   "metadata": {},
   "outputs": [
    {
     "name": "stdout",
     "output_type": "stream",
     "text": [
      "Datatype of feature vectors: <class 'PIL.Image.Image'>\n",
      "On row batch 1 of 1\n",
      "Computing sample 1 of 200\n"
     ]
    }
   ],
   "source": [
    "\n",
    "\n",
    "# Test with loading and mixing FMNIST: \n",
    "fmnist_root = \"./fmnist\"\n",
    "fmnist = torchvision.datasets.FashionMNIST(fmnist_root, train=True, download=True)\n",
    "\n",
    "# transform data to [-1 1] scale\n",
    "normalize = transforms.Normalize(mean=[0.5, 0.5, 0.5],\n",
    "                               std=[0.5, 0.5, 0.5])\n",
    "maxn = 10\n",
    "fcvx = mixup.ConvexHullDataset(\n",
    "    fmnist, \n",
    "    batchsize=3000, \n",
    "    maxneighbors=maxn, \n",
    "    limitdata = 100, \n",
    "    store=True)"
   ]
  },
  {
   "cell_type": "code",
   "execution_count": 141,
   "metadata": {},
   "outputs": [
    {
     "name": "stdout",
     "output_type": "stream",
     "text": [
      "tensor([[0],\n",
      "        [6]])\n",
      "tensor([0.5435, 0.4565], dtype=torch.float64)\n"
     ]
    },
    {
     "data": {
      "text/plain": [
       "<matplotlib.image.AxesImage at 0x7f193f548310>"
      ]
     },
     "execution_count": 141,
     "metadata": {},
     "output_type": "execute_result"
    },
    {
     "data": {
      "image/png": "[encoded data removed]",
      "text/plain": [
       "<Figure size 432x288 with 3 Axes>"
      ]
     },
     "metadata": {
      "needs_background": "light"
     },
     "output_type": "display_data"
    }
   ],
   "source": [
    "exampleidx = 90\n",
    "fig, axes = plt.subplots(1,fcvx.averageneighbors + 1)\n",
    "targets = []\n",
    "for (idx, pair) in enumerate(fcvx.getcomponents(exampleidx)):\n",
    "    axes[idx].imshow(pair[0])\n",
    "    targets.append(pair[1])\n",
    "cvxim = fcvx[exampleidx][0]\n",
    "cvxtarget = fcvx[exampleidx][1]\n",
    "weights = fcvx[exampleidx][2]\n",
    "print(cvxtarget)\n",
    "print(weights)\n",
    "axes[fcvx.averageneighbors].imshow(cvxim)"
   ]
  },
  {
   "cell_type": "code",
   "execution_count": 142,
   "metadata": {},
   "outputs": [
    {
     "data": {
      "text/plain": [
       "tensor([48])"
      ]
     },
     "execution_count": 142,
     "metadata": {},
     "output_type": "execute_result"
    }
   ],
   "source": [
    "m = torch.empty(2,1, dtype=torch.long)\n",
    "m[0]"
   ]
  },
  {
   "cell_type": "code",
   "execution_count": 8,
   "metadata": {},
   "outputs": [
    {
     "name": "stdout",
     "output_type": "stream",
     "text": [
      "Files already downloaded and verified\n",
      "Datatype of feature vectors: <class 'PIL.Image.Image'>\n",
      "On row batch 1 of 2\n",
      "On row batch 2 of 2\n",
      "Computing sample 1 of 10000\n",
      "Computing sample 1001 of 10000\n",
      "Computing sample 2001 of 10000\n",
      "Computing sample 3001 of 10000\n",
      "Computing sample 4001 of 10000\n",
      "Computing sample 5001 of 10000\n",
      "Computing sample 6001 of 10000\n",
      "Computing sample 7001 of 10000\n",
      "Computing sample 8001 of 10000\n",
      "Computing sample 9001 of 10000\n"
     ]
    }
   ],
   "source": [
    "# Test with CIFAR10\n",
    "\n",
    "CIFAR_traindataset= datasets.CIFAR10(root='./cifar10', train=True, download=True)\n",
    "\n",
    "# transform data to [-1, 1] scale\n",
    "normalize = transforms.Normalize(mean=[0.5, 0.5, 0.5],\n",
    "                               std=[0.5, 0.5, 0.5])\n",
    "maxn = 10\n",
    "CIFAR_cvx_traindataset = mixup.ConvexHullDataset(\n",
    "    CIFAR_traindataset, \n",
    "    batchsize=3000, \n",
    "    maxneighbors=maxn,\n",
    "    transform=transforms.Compose([\n",
    "#        transforms.RandomHorizontalFlip(),\n",
    "#        transforms.RandomCrop(32, 4),\n",
    "       transforms.ToTensor(),\n",
    "        normalize,\n",
    "    ]), \n",
    "    limitdata=5000,\n",
    "    store=True)"
   ]
  },
  {
   "cell_type": "code",
   "execution_count": null,
   "metadata": {},
   "outputs": [],
   "source": []
  }
 ],
 "metadata": {
  "kernelspec": {
   "display_name": "Python 3",
   "language": "python",
   "name": "python3"
  },
  "language_info": {
   "codemirror_mode": {
    "name": "ipython",
    "version": 3
   },
   "file_extension": ".py",
   "mimetype": "text/x-python",
   "name": "python",
   "nbconvert_exporter": "python",
   "pygments_lexer": "ipython3",
   "version": "3.7.9"
  }
 },
 "nbformat": 4,
 "nbformat_minor": 4
}
