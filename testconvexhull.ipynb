{
 "cells": [
  {
   "cell_type": "code",
   "execution_count": 10,
   "metadata": {},
   "outputs": [
    {
     "name": "stdout",
     "output_type": "stream",
     "text": [
      "Datatype of feature vectors: <class 'PIL.Image.Image'>\n",
      "On row batch 1 of 2\n",
      "On row batch 2 of 2\n",
      "Computing sample 1 of 5000\n",
      "Computing sample 1001 of 5000\n",
      "Computing sample 2001 of 5000\n",
      "Computing sample 3001 of 5000\n",
      "Computing sample 4001 of 5000\n"
     ]
    }
   ],
   "source": [
    "import numpy as np\n",
    "import torch\n",
    "import torchvision\n",
    "from torch.utils.data import Dataset, TensorDataset\n",
    "import torchvision.datasets as datasets\n",
    "from torchvision import transforms\n",
    "import PIL\n",
    "import ConvexHullDataset as mixup\n",
    "from importlib import reload\n",
    "\n",
    "mixup = reload(mixup)\n",
    "\n",
    "# Test with loading and mixing FMNIST: \n",
    "fmnist_root = \"./fmnist\"\n",
    "fmnist = torchvision.datasets.FashionMNIST(fmnist_root, train=True, download=True)\n",
    "\n",
    "# transform data to [-1 1] scale\n",
    "normalize = transforms.Normalize(mean=[0.5, 0.5, 0.5],\n",
    "                               std=[0.5, 0.5, 0.5])\n",
    "maxn = 10\n",
    "fmnist_cvx_traindataset = mixup.ConvexHullDataset(\n",
    "    fmnist, \n",
    "    batchsize=3000, \n",
    "    maxneighbors=maxn, \n",
    "    limitdata = 5000, \n",
    "    store=True)"
   ]
  },
  {
   "cell_type": "code",
   "execution_count": null,
   "metadata": {},
   "outputs": [],
   "source": [
    "fmnist_cvx_traindataset[0][0]"
   ]
  },
  {
   "cell_type": "code",
   "execution_count": null,
   "metadata": {},
   "outputs": [],
   "source": [
    "# Test with CIFAR10\n",
    "\n",
    "CIFAR_traindataset= datasets.CIFAR10(root='./cifar10', train=True, download=True)\n",
    "\n",
    "# transform data to [-1, 1] scale\n",
    "normalize = transforms.Normalize(mean=[0.5, 0.5, 0.5],\n",
    "                               std=[0.5, 0.5, 0.5])\n",
    "maxn = 10\n",
    "CIFAR_cvx_traindataset = mixup.ConvexHullDataset(\n",
    "    CIFAR_traindataset, \n",
    "    batchsize=3000, \n",
    "    maxneighbors=maxn,\n",
    "    transform=transforms.Compose([\n",
    "        transforms.RandomHorizontalFlip(),\n",
    "        transforms.RandomCrop(32, 4),\n",
    "#        transforms.ToTensor(),\n",
    "#        normalize,\n",
    "    ]), \n",
    "    limitdata=5000,\n",
    "    store=True)"
   ]
  },
  {
   "cell_type": "code",
   "execution_count": null,
   "metadata": {},
   "outputs": [],
   "source": [
    "CIFAR_cvx_traindataset[200][0]"
   ]
  }
 ],
 "metadata": {
  "kernelspec": {
   "display_name": "Python 3",
   "language": "python",
   "name": "python3"
  },
  "language_info": {
   "codemirror_mode": {
    "name": "ipython",
    "version": 3
   },
   "file_extension": ".py",
   "mimetype": "text/x-python",
   "name": "python",
   "nbconvert_exporter": "python",
   "pygments_lexer": "ipython3",
   "version": "3.8.2"
  }
 },
 "nbformat": 4,
 "nbformat_minor": 4
}
